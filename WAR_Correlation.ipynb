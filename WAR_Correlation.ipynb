{
 "cells": [
  {
   "cell_type": "code",
   "execution_count": 100,
   "metadata": {},
   "outputs": [],
   "source": [
    "import csv\n",
    "import requests\n",
    "from bs4 import BeautifulSoup\n",
    "import joblib\n",
    "import matplotlib as mpl\n",
    "import matplotlib.pyplot as plt\n",
    "import numpy as np\n",
    "import os\n",
    "import pandas as pd\n",
    "import tarfile\n",
    "from scipy import stats\n",
    "from sklearn.base import BaseEstimator, TransformerMixin\n",
    "from sklearn.compose import ColumnTransformer\n",
    "from sklearn.ensemble import RandomForestRegressor\n",
    "from sklearn.impute import SimpleImputer\n",
    "from sklearn.linear_model import LinearRegression\n",
    "from sklearn.metrics import mean_squared_error, mean_absolute_error\n",
    "from sklearn.model_selection import cross_val_score, GridSearchCV, StratifiedShuffleSplit, train_test_split \n",
    "from sklearn.pipeline import Pipeline\n",
    "from sklearn.preprocessing import OneHotEncoder, OrdinalEncoder, StandardScaler\n",
    "from sklearn.svm import SVR\n",
    "from sklearn.tree import DecisionTreeRegressor\n",
    "from urllib import request\n",
    "from zlib import crc32"
   ]
  },
  {
   "cell_type": "code",
   "execution_count": 2,
   "metadata": {},
   "outputs": [],
   "source": [
    "url=\"https://www.fangraphs.com/leaders.aspx?pos=all&stats=bat&lg=all&qual=y&type=8&season=\""
   ]
  },
  {
   "cell_type": "code",
   "execution_count": 3,
   "metadata": {},
   "outputs": [
    {
     "name": "stdout",
     "output_type": "stream",
     "text": [
      "<class 'list'>\n"
     ]
    }
   ],
   "source": [
    "filename = \"battingstats.csv\"\n",
    "f = open(filename, \"w\", encoding=\"utf8\", newline=\"\")\n",
    "writer = csv.writer(f)\n",
    "\n",
    "title = \"#\tName\tTeam\tG\tPA\tHR\tR\tRBI\tSB\tBB%\tK%\tISO\tBABIP\tAVG\tOBP\tSLG\twOBA\txwOBA\twRC+\tBsR\tOff\tDef\tWAR\".split(\"\\t\")\n",
    "print(type(title))\n",
    "writer.writerow(title)\n",
    "\n",
    "for year in range(2010,2020):\n",
    "    for page in range(1,4):\n",
    "        res = requests.get(url + str(year) +\"&month=0&season1=\" + str(year) + \"&ind=0&team=0&rost=0&age=0&filter=&players=0&page=\" + str(page) + \"_50\")\n",
    "        res.raise_for_status()\n",
    "        soup = BeautifulSoup(res.text, \"lxml\")\n",
    "        \n",
    "        data_rows = soup.find(\"table\", attrs={\"class\":\"rgMasterTable\"}).find(\"tbody\").find_all(\"tr\")\n",
    "        for row in data_rows:\n",
    "            columns = row.find_all(\"td\")\n",
    "            data = [column.get_text().strip() for column in columns]\n",
    "            #print(data)\n",
    "            writer.writerow(data)"
   ]
  },
  {
   "cell_type": "code",
   "execution_count": 4,
   "metadata": {},
   "outputs": [
    {
     "data": {
      "text/html": [
       "<div>\n",
       "<style scoped>\n",
       "    .dataframe tbody tr th:only-of-type {\n",
       "        vertical-align: middle;\n",
       "    }\n",
       "\n",
       "    .dataframe tbody tr th {\n",
       "        vertical-align: top;\n",
       "    }\n",
       "\n",
       "    .dataframe thead th {\n",
       "        text-align: right;\n",
       "    }\n",
       "</style>\n",
       "<table border=\"1\" class=\"dataframe\">\n",
       "  <thead>\n",
       "    <tr style=\"text-align: right;\">\n",
       "      <th></th>\n",
       "      <th>#</th>\n",
       "      <th>Name</th>\n",
       "      <th>Team</th>\n",
       "      <th>G</th>\n",
       "      <th>PA</th>\n",
       "      <th>HR</th>\n",
       "      <th>R</th>\n",
       "      <th>RBI</th>\n",
       "      <th>SB</th>\n",
       "      <th>BB%</th>\n",
       "      <th>...</th>\n",
       "      <th>AVG</th>\n",
       "      <th>OBP</th>\n",
       "      <th>SLG</th>\n",
       "      <th>wOBA</th>\n",
       "      <th>xwOBA</th>\n",
       "      <th>wRC+</th>\n",
       "      <th>BsR</th>\n",
       "      <th>Off</th>\n",
       "      <th>Def</th>\n",
       "      <th>WAR</th>\n",
       "    </tr>\n",
       "  </thead>\n",
       "  <tbody>\n",
       "    <tr>\n",
       "      <th>0</th>\n",
       "      <td>1</td>\n",
       "      <td>Josh Hamilton</td>\n",
       "      <td>TEX</td>\n",
       "      <td>133</td>\n",
       "      <td>571</td>\n",
       "      <td>32</td>\n",
       "      <td>95</td>\n",
       "      <td>100</td>\n",
       "      <td>8</td>\n",
       "      <td>7.5%</td>\n",
       "      <td>...</td>\n",
       "      <td>0.359</td>\n",
       "      <td>0.411</td>\n",
       "      <td>0.633</td>\n",
       "      <td>0.445</td>\n",
       "      <td>NaN</td>\n",
       "      <td>175</td>\n",
       "      <td>4.9</td>\n",
       "      <td>55.3</td>\n",
       "      <td>5.9</td>\n",
       "      <td>8.4</td>\n",
       "    </tr>\n",
       "    <tr>\n",
       "      <th>1</th>\n",
       "      <td>2</td>\n",
       "      <td>Carl Crawford</td>\n",
       "      <td>TBR</td>\n",
       "      <td>154</td>\n",
       "      <td>663</td>\n",
       "      <td>19</td>\n",
       "      <td>110</td>\n",
       "      <td>90</td>\n",
       "      <td>47</td>\n",
       "      <td>6.9%</td>\n",
       "      <td>...</td>\n",
       "      <td>0.307</td>\n",
       "      <td>0.356</td>\n",
       "      <td>0.495</td>\n",
       "      <td>0.369</td>\n",
       "      <td>NaN</td>\n",
       "      <td>135</td>\n",
       "      <td>13.3</td>\n",
       "      <td>40.2</td>\n",
       "      <td>11.1</td>\n",
       "      <td>7.7</td>\n",
       "    </tr>\n",
       "    <tr>\n",
       "      <th>2</th>\n",
       "      <td>3</td>\n",
       "      <td>Evan Longoria</td>\n",
       "      <td>TBR</td>\n",
       "      <td>151</td>\n",
       "      <td>661</td>\n",
       "      <td>22</td>\n",
       "      <td>96</td>\n",
       "      <td>104</td>\n",
       "      <td>15</td>\n",
       "      <td>10.9%</td>\n",
       "      <td>...</td>\n",
       "      <td>0.294</td>\n",
       "      <td>0.372</td>\n",
       "      <td>0.507</td>\n",
       "      <td>0.376</td>\n",
       "      <td>NaN</td>\n",
       "      <td>139</td>\n",
       "      <td>4.5</td>\n",
       "      <td>35.0</td>\n",
       "      <td>14.4</td>\n",
       "      <td>7.5</td>\n",
       "    </tr>\n",
       "    <tr>\n",
       "      <th>3</th>\n",
       "      <td>4</td>\n",
       "      <td>Joey Votto</td>\n",
       "      <td>CIN</td>\n",
       "      <td>150</td>\n",
       "      <td>648</td>\n",
       "      <td>37</td>\n",
       "      <td>106</td>\n",
       "      <td>113</td>\n",
       "      <td>16</td>\n",
       "      <td>14.0%</td>\n",
       "      <td>...</td>\n",
       "      <td>0.324</td>\n",
       "      <td>0.424</td>\n",
       "      <td>0.600</td>\n",
       "      <td>0.438</td>\n",
       "      <td>NaN</td>\n",
       "      <td>172</td>\n",
       "      <td>1.1</td>\n",
       "      <td>57.0</td>\n",
       "      <td>-10.1</td>\n",
       "      <td>6.9</td>\n",
       "    </tr>\n",
       "    <tr>\n",
       "      <th>4</th>\n",
       "      <td>5</td>\n",
       "      <td>Albert Pujols</td>\n",
       "      <td>STL</td>\n",
       "      <td>159</td>\n",
       "      <td>700</td>\n",
       "      <td>42</td>\n",
       "      <td>115</td>\n",
       "      <td>118</td>\n",
       "      <td>14</td>\n",
       "      <td>14.7%</td>\n",
       "      <td>...</td>\n",
       "      <td>0.312</td>\n",
       "      <td>0.414</td>\n",
       "      <td>0.596</td>\n",
       "      <td>0.419</td>\n",
       "      <td>NaN</td>\n",
       "      <td>164</td>\n",
       "      <td>0.9</td>\n",
       "      <td>54.2</td>\n",
       "      <td>-10.0</td>\n",
       "      <td>6.8</td>\n",
       "    </tr>\n",
       "    <tr>\n",
       "      <th>...</th>\n",
       "      <td>...</td>\n",
       "      <td>...</td>\n",
       "      <td>...</td>\n",
       "      <td>...</td>\n",
       "      <td>...</td>\n",
       "      <td>...</td>\n",
       "      <td>...</td>\n",
       "      <td>...</td>\n",
       "      <td>...</td>\n",
       "      <td>...</td>\n",
       "      <td>...</td>\n",
       "      <td>...</td>\n",
       "      <td>...</td>\n",
       "      <td>...</td>\n",
       "      <td>...</td>\n",
       "      <td>...</td>\n",
       "      <td>...</td>\n",
       "      <td>...</td>\n",
       "      <td>...</td>\n",
       "      <td>...</td>\n",
       "      <td>...</td>\n",
       "    </tr>\n",
       "    <tr>\n",
       "      <th>1371</th>\n",
       "      <td>78</td>\n",
       "      <td>Jean Segura</td>\n",
       "      <td>PHI</td>\n",
       "      <td>144</td>\n",
       "      <td>618</td>\n",
       "      <td>12</td>\n",
       "      <td>79</td>\n",
       "      <td>60</td>\n",
       "      <td>10</td>\n",
       "      <td>4.9%</td>\n",
       "      <td>...</td>\n",
       "      <td>0.280</td>\n",
       "      <td>0.323</td>\n",
       "      <td>0.420</td>\n",
       "      <td>0.315</td>\n",
       "      <td>0.304</td>\n",
       "      <td>92</td>\n",
       "      <td>5.7</td>\n",
       "      <td>-0.5</td>\n",
       "      <td>5.0</td>\n",
       "      <td>2.4</td>\n",
       "    </tr>\n",
       "    <tr>\n",
       "      <th>1372</th>\n",
       "      <td>79</td>\n",
       "      <td>Kevin Newman</td>\n",
       "      <td>PIT</td>\n",
       "      <td>130</td>\n",
       "      <td>531</td>\n",
       "      <td>12</td>\n",
       "      <td>61</td>\n",
       "      <td>64</td>\n",
       "      <td>16</td>\n",
       "      <td>5.3%</td>\n",
       "      <td>...</td>\n",
       "      <td>0.308</td>\n",
       "      <td>0.353</td>\n",
       "      <td>0.446</td>\n",
       "      <td>0.339</td>\n",
       "      <td>0.297</td>\n",
       "      <td>109</td>\n",
       "      <td>-0.2</td>\n",
       "      <td>6.4</td>\n",
       "      <td>0.5</td>\n",
       "      <td>2.3</td>\n",
       "    </tr>\n",
       "    <tr>\n",
       "      <th>1373</th>\n",
       "      <td>80</td>\n",
       "      <td>Nick Ahmed</td>\n",
       "      <td>ARI</td>\n",
       "      <td>158</td>\n",
       "      <td>625</td>\n",
       "      <td>19</td>\n",
       "      <td>79</td>\n",
       "      <td>82</td>\n",
       "      <td>8</td>\n",
       "      <td>8.3%</td>\n",
       "      <td>...</td>\n",
       "      <td>0.254</td>\n",
       "      <td>0.316</td>\n",
       "      <td>0.437</td>\n",
       "      <td>0.315</td>\n",
       "      <td>0.320</td>\n",
       "      <td>91</td>\n",
       "      <td>2.2</td>\n",
       "      <td>-5.3</td>\n",
       "      <td>9.0</td>\n",
       "      <td>2.3</td>\n",
       "    </tr>\n",
       "    <tr>\n",
       "      <th>1374</th>\n",
       "      <td>81</td>\n",
       "      <td>Rhys Hoskins</td>\n",
       "      <td>PHI</td>\n",
       "      <td>160</td>\n",
       "      <td>705</td>\n",
       "      <td>29</td>\n",
       "      <td>86</td>\n",
       "      <td>85</td>\n",
       "      <td>2</td>\n",
       "      <td>16.5%</td>\n",
       "      <td>...</td>\n",
       "      <td>0.226</td>\n",
       "      <td>0.364</td>\n",
       "      <td>0.454</td>\n",
       "      <td>0.347</td>\n",
       "      <td>0.338</td>\n",
       "      <td>113</td>\n",
       "      <td>-2.7</td>\n",
       "      <td>9.6</td>\n",
       "      <td>-9.8</td>\n",
       "      <td>2.2</td>\n",
       "    </tr>\n",
       "    <tr>\n",
       "      <th>1375</th>\n",
       "      <td>82</td>\n",
       "      <td>Adam Frazier</td>\n",
       "      <td>PIT</td>\n",
       "      <td>152</td>\n",
       "      <td>608</td>\n",
       "      <td>10</td>\n",
       "      <td>80</td>\n",
       "      <td>50</td>\n",
       "      <td>5</td>\n",
       "      <td>6.6%</td>\n",
       "      <td>...</td>\n",
       "      <td>0.278</td>\n",
       "      <td>0.336</td>\n",
       "      <td>0.417</td>\n",
       "      <td>0.320</td>\n",
       "      <td>0.312</td>\n",
       "      <td>97</td>\n",
       "      <td>0.7</td>\n",
       "      <td>-2.0</td>\n",
       "      <td>4.9</td>\n",
       "      <td>2.2</td>\n",
       "    </tr>\n",
       "  </tbody>\n",
       "</table>\n",
       "<p>1376 rows × 23 columns</p>\n",
       "</div>"
      ],
      "text/plain": [
       "       #           Name Team    G   PA  HR    R  RBI  SB    BB%  ...    AVG  \\\n",
       "0      1  Josh Hamilton  TEX  133  571  32   95  100   8   7.5%  ...  0.359   \n",
       "1      2  Carl Crawford  TBR  154  663  19  110   90  47   6.9%  ...  0.307   \n",
       "2      3  Evan Longoria  TBR  151  661  22   96  104  15  10.9%  ...  0.294   \n",
       "3      4     Joey Votto  CIN  150  648  37  106  113  16  14.0%  ...  0.324   \n",
       "4      5  Albert Pujols  STL  159  700  42  115  118  14  14.7%  ...  0.312   \n",
       "...   ..            ...  ...  ...  ...  ..  ...  ...  ..    ...  ...    ...   \n",
       "1371  78    Jean Segura  PHI  144  618  12   79   60  10   4.9%  ...  0.280   \n",
       "1372  79   Kevin Newman  PIT  130  531  12   61   64  16   5.3%  ...  0.308   \n",
       "1373  80     Nick Ahmed  ARI  158  625  19   79   82   8   8.3%  ...  0.254   \n",
       "1374  81   Rhys Hoskins  PHI  160  705  29   86   85   2  16.5%  ...  0.226   \n",
       "1375  82   Adam Frazier  PIT  152  608  10   80   50   5   6.6%  ...  0.278   \n",
       "\n",
       "        OBP    SLG   wOBA  xwOBA  wRC+   BsR   Off   Def  WAR  \n",
       "0     0.411  0.633  0.445    NaN   175   4.9  55.3   5.9  8.4  \n",
       "1     0.356  0.495  0.369    NaN   135  13.3  40.2  11.1  7.7  \n",
       "2     0.372  0.507  0.376    NaN   139   4.5  35.0  14.4  7.5  \n",
       "3     0.424  0.600  0.438    NaN   172   1.1  57.0 -10.1  6.9  \n",
       "4     0.414  0.596  0.419    NaN   164   0.9  54.2 -10.0  6.8  \n",
       "...     ...    ...    ...    ...   ...   ...   ...   ...  ...  \n",
       "1371  0.323  0.420  0.315  0.304    92   5.7  -0.5   5.0  2.4  \n",
       "1372  0.353  0.446  0.339  0.297   109  -0.2   6.4   0.5  2.3  \n",
       "1373  0.316  0.437  0.315  0.320    91   2.2  -5.3   9.0  2.3  \n",
       "1374  0.364  0.454  0.347  0.338   113  -2.7   9.6  -9.8  2.2  \n",
       "1375  0.336  0.417  0.320  0.312    97   0.7  -2.0   4.9  2.2  \n",
       "\n",
       "[1376 rows x 23 columns]"
      ]
     },
     "execution_count": 4,
     "metadata": {},
     "output_type": "execute_result"
    }
   ],
   "source": [
    "stat = pd.read_csv('battingstats.csv')\n",
    "stat"
   ]
  },
  {
   "cell_type": "code",
   "execution_count": 5,
   "metadata": {},
   "outputs": [
    {
     "name": "stdout",
     "output_type": "stream",
     "text": [
      "<class 'pandas.core.frame.DataFrame'>\n",
      "RangeIndex: 1376 entries, 0 to 1375\n",
      "Data columns (total 23 columns):\n",
      " #   Column  Non-Null Count  Dtype  \n",
      "---  ------  --------------  -----  \n",
      " 0   #       1376 non-null   int64  \n",
      " 1   Name    1376 non-null   object \n",
      " 2   Team    1376 non-null   object \n",
      " 3   G       1376 non-null   int64  \n",
      " 4   PA      1376 non-null   int64  \n",
      " 5   HR      1376 non-null   int64  \n",
      " 6   R       1376 non-null   int64  \n",
      " 7   RBI     1376 non-null   int64  \n",
      " 8   SB      1376 non-null   int64  \n",
      " 9   BB%     1376 non-null   object \n",
      " 10  K%      1376 non-null   object \n",
      " 11  ISO     1376 non-null   float64\n",
      " 12  BABIP   1376 non-null   float64\n",
      " 13  AVG     1376 non-null   float64\n",
      " 14  OBP     1376 non-null   float64\n",
      " 15  SLG     1376 non-null   float64\n",
      " 16  wOBA    1376 non-null   float64\n",
      " 17  xwOBA   653 non-null    float64\n",
      " 18  wRC+    1376 non-null   int64  \n",
      " 19  BsR     1376 non-null   float64\n",
      " 20  Off     1376 non-null   float64\n",
      " 21  Def     1376 non-null   float64\n",
      " 22  WAR     1376 non-null   float64\n",
      "dtypes: float64(11), int64(8), object(4)\n",
      "memory usage: 247.4+ KB\n"
     ]
    }
   ],
   "source": [
    "stat.info()"
   ]
  },
  {
   "cell_type": "code",
   "execution_count": 6,
   "metadata": {},
   "outputs": [
    {
     "data": {
      "text/plain": [
       "2.5     38\n",
       "2.4     35\n",
       "2.9     34\n",
       "2.7     34\n",
       "2.2     33\n",
       "        ..\n",
       "9.7      1\n",
       "10.2     1\n",
       "8.2      1\n",
       "9.5      1\n",
       "7.5      1\n",
       "Name: WAR, Length: 114, dtype: int64"
      ]
     },
     "execution_count": 6,
     "metadata": {},
     "output_type": "execute_result"
    }
   ],
   "source": [
    "stat[\"WAR\"].value_counts()"
   ]
  },
  {
   "cell_type": "code",
   "execution_count": 7,
   "metadata": {},
   "outputs": [
    {
     "data": {
      "text/html": [
       "<div>\n",
       "<style scoped>\n",
       "    .dataframe tbody tr th:only-of-type {\n",
       "        vertical-align: middle;\n",
       "    }\n",
       "\n",
       "    .dataframe tbody tr th {\n",
       "        vertical-align: top;\n",
       "    }\n",
       "\n",
       "    .dataframe thead th {\n",
       "        text-align: right;\n",
       "    }\n",
       "</style>\n",
       "<table border=\"1\" class=\"dataframe\">\n",
       "  <thead>\n",
       "    <tr style=\"text-align: right;\">\n",
       "      <th></th>\n",
       "      <th>#</th>\n",
       "      <th>G</th>\n",
       "      <th>PA</th>\n",
       "      <th>HR</th>\n",
       "      <th>R</th>\n",
       "      <th>RBI</th>\n",
       "      <th>SB</th>\n",
       "      <th>ISO</th>\n",
       "      <th>BABIP</th>\n",
       "      <th>AVG</th>\n",
       "      <th>OBP</th>\n",
       "      <th>SLG</th>\n",
       "      <th>wOBA</th>\n",
       "      <th>xwOBA</th>\n",
       "      <th>wRC+</th>\n",
       "      <th>BsR</th>\n",
       "      <th>Off</th>\n",
       "      <th>Def</th>\n",
       "      <th>WAR</th>\n",
       "    </tr>\n",
       "  </thead>\n",
       "  <tbody>\n",
       "    <tr>\n",
       "      <th>count</th>\n",
       "      <td>1376.000000</td>\n",
       "      <td>1376.000000</td>\n",
       "      <td>1376.000000</td>\n",
       "      <td>1376.000000</td>\n",
       "      <td>1376.000000</td>\n",
       "      <td>1376.000000</td>\n",
       "      <td>1376.000000</td>\n",
       "      <td>1376.000000</td>\n",
       "      <td>1376.000000</td>\n",
       "      <td>1376.000000</td>\n",
       "      <td>1376.000000</td>\n",
       "      <td>1376.000000</td>\n",
       "      <td>1376.000000</td>\n",
       "      <td>653.000000</td>\n",
       "      <td>1376.000000</td>\n",
       "      <td>1376.000000</td>\n",
       "      <td>1376.000000</td>\n",
       "      <td>1376.000000</td>\n",
       "      <td>1376.000000</td>\n",
       "    </tr>\n",
       "    <tr>\n",
       "      <th>mean</th>\n",
       "      <td>70.575581</td>\n",
       "      <td>146.341570</td>\n",
       "      <td>608.279070</td>\n",
       "      <td>19.930233</td>\n",
       "      <td>76.967297</td>\n",
       "      <td>73.814680</td>\n",
       "      <td>10.319041</td>\n",
       "      <td>0.175367</td>\n",
       "      <td>0.306424</td>\n",
       "      <td>0.271511</td>\n",
       "      <td>0.339544</td>\n",
       "      <td>0.446873</td>\n",
       "      <td>0.339166</td>\n",
       "      <td>0.329276</td>\n",
       "      <td>112.277616</td>\n",
       "      <td>0.263590</td>\n",
       "      <td>9.672602</td>\n",
       "      <td>-1.006686</td>\n",
       "      <td>2.942515</td>\n",
       "    </tr>\n",
       "    <tr>\n",
       "      <th>std</th>\n",
       "      <td>41.377430</td>\n",
       "      <td>10.779626</td>\n",
       "      <td>61.176245</td>\n",
       "      <td>10.150980</td>\n",
       "      <td>17.498208</td>\n",
       "      <td>21.164735</td>\n",
       "      <td>11.057830</td>\n",
       "      <td>0.055993</td>\n",
       "      <td>0.032103</td>\n",
       "      <td>0.027221</td>\n",
       "      <td>0.033133</td>\n",
       "      <td>0.065334</td>\n",
       "      <td>0.034360</td>\n",
       "      <td>0.037424</td>\n",
       "      <td>22.995714</td>\n",
       "      <td>4.039138</td>\n",
       "      <td>17.415724</td>\n",
       "      <td>10.637574</td>\n",
       "      <td>2.079556</td>\n",
       "    </tr>\n",
       "    <tr>\n",
       "      <th>min</th>\n",
       "      <td>1.000000</td>\n",
       "      <td>113.000000</td>\n",
       "      <td>501.000000</td>\n",
       "      <td>0.000000</td>\n",
       "      <td>30.000000</td>\n",
       "      <td>17.000000</td>\n",
       "      <td>0.000000</td>\n",
       "      <td>0.036000</td>\n",
       "      <td>0.196000</td>\n",
       "      <td>0.168000</td>\n",
       "      <td>0.243000</td>\n",
       "      <td>0.268000</td>\n",
       "      <td>0.239000</td>\n",
       "      <td>0.240000</td>\n",
       "      <td>46.000000</td>\n",
       "      <td>-12.600000</td>\n",
       "      <td>-35.500000</td>\n",
       "      <td>-35.300000</td>\n",
       "      <td>-3.100000</td>\n",
       "    </tr>\n",
       "    <tr>\n",
       "      <th>25%</th>\n",
       "      <td>35.000000</td>\n",
       "      <td>139.000000</td>\n",
       "      <td>555.000000</td>\n",
       "      <td>12.000000</td>\n",
       "      <td>65.000000</td>\n",
       "      <td>58.000000</td>\n",
       "      <td>2.000000</td>\n",
       "      <td>0.134000</td>\n",
       "      <td>0.285000</td>\n",
       "      <td>0.253000</td>\n",
       "      <td>0.317000</td>\n",
       "      <td>0.400000</td>\n",
       "      <td>0.315000</td>\n",
       "      <td>0.302000</td>\n",
       "      <td>96.000000</td>\n",
       "      <td>-2.300000</td>\n",
       "      <td>-2.400000</td>\n",
       "      <td>-8.600000</td>\n",
       "      <td>1.500000</td>\n",
       "    </tr>\n",
       "    <tr>\n",
       "      <th>50%</th>\n",
       "      <td>69.000000</td>\n",
       "      <td>148.000000</td>\n",
       "      <td>609.000000</td>\n",
       "      <td>19.000000</td>\n",
       "      <td>76.000000</td>\n",
       "      <td>73.000000</td>\n",
       "      <td>6.000000</td>\n",
       "      <td>0.173000</td>\n",
       "      <td>0.306000</td>\n",
       "      <td>0.271000</td>\n",
       "      <td>0.337000</td>\n",
       "      <td>0.443000</td>\n",
       "      <td>0.337000</td>\n",
       "      <td>0.327000</td>\n",
       "      <td>111.000000</td>\n",
       "      <td>0.300000</td>\n",
       "      <td>8.300000</td>\n",
       "      <td>-1.450000</td>\n",
       "      <td>2.800000</td>\n",
       "    </tr>\n",
       "    <tr>\n",
       "      <th>75%</th>\n",
       "      <td>106.000000</td>\n",
       "      <td>155.250000</td>\n",
       "      <td>658.250000</td>\n",
       "      <td>27.000000</td>\n",
       "      <td>88.000000</td>\n",
       "      <td>88.000000</td>\n",
       "      <td>15.000000</td>\n",
       "      <td>0.216000</td>\n",
       "      <td>0.328000</td>\n",
       "      <td>0.290000</td>\n",
       "      <td>0.360000</td>\n",
       "      <td>0.491000</td>\n",
       "      <td>0.361000</td>\n",
       "      <td>0.353000</td>\n",
       "      <td>127.000000</td>\n",
       "      <td>2.900000</td>\n",
       "      <td>20.700000</td>\n",
       "      <td>5.725000</td>\n",
       "      <td>4.200000</td>\n",
       "    </tr>\n",
       "    <tr>\n",
       "      <th>max</th>\n",
       "      <td>149.000000</td>\n",
       "      <td>162.000000</td>\n",
       "      <td>754.000000</td>\n",
       "      <td>59.000000</td>\n",
       "      <td>137.000000</td>\n",
       "      <td>139.000000</td>\n",
       "      <td>68.000000</td>\n",
       "      <td>0.357000</td>\n",
       "      <td>0.406000</td>\n",
       "      <td>0.359000</td>\n",
       "      <td>0.460000</td>\n",
       "      <td>0.671000</td>\n",
       "      <td>0.461000</td>\n",
       "      <td>0.451000</td>\n",
       "      <td>197.000000</td>\n",
       "      <td>14.300000</td>\n",
       "      <td>77.700000</td>\n",
       "      <td>48.300000</td>\n",
       "      <td>10.400000</td>\n",
       "    </tr>\n",
       "  </tbody>\n",
       "</table>\n",
       "</div>"
      ],
      "text/plain": [
       "                 #            G           PA           HR            R  \\\n",
       "count  1376.000000  1376.000000  1376.000000  1376.000000  1376.000000   \n",
       "mean     70.575581   146.341570   608.279070    19.930233    76.967297   \n",
       "std      41.377430    10.779626    61.176245    10.150980    17.498208   \n",
       "min       1.000000   113.000000   501.000000     0.000000    30.000000   \n",
       "25%      35.000000   139.000000   555.000000    12.000000    65.000000   \n",
       "50%      69.000000   148.000000   609.000000    19.000000    76.000000   \n",
       "75%     106.000000   155.250000   658.250000    27.000000    88.000000   \n",
       "max     149.000000   162.000000   754.000000    59.000000   137.000000   \n",
       "\n",
       "               RBI           SB          ISO        BABIP          AVG  \\\n",
       "count  1376.000000  1376.000000  1376.000000  1376.000000  1376.000000   \n",
       "mean     73.814680    10.319041     0.175367     0.306424     0.271511   \n",
       "std      21.164735    11.057830     0.055993     0.032103     0.027221   \n",
       "min      17.000000     0.000000     0.036000     0.196000     0.168000   \n",
       "25%      58.000000     2.000000     0.134000     0.285000     0.253000   \n",
       "50%      73.000000     6.000000     0.173000     0.306000     0.271000   \n",
       "75%      88.000000    15.000000     0.216000     0.328000     0.290000   \n",
       "max     139.000000    68.000000     0.357000     0.406000     0.359000   \n",
       "\n",
       "               OBP          SLG         wOBA       xwOBA         wRC+  \\\n",
       "count  1376.000000  1376.000000  1376.000000  653.000000  1376.000000   \n",
       "mean      0.339544     0.446873     0.339166    0.329276   112.277616   \n",
       "std       0.033133     0.065334     0.034360    0.037424    22.995714   \n",
       "min       0.243000     0.268000     0.239000    0.240000    46.000000   \n",
       "25%       0.317000     0.400000     0.315000    0.302000    96.000000   \n",
       "50%       0.337000     0.443000     0.337000    0.327000   111.000000   \n",
       "75%       0.360000     0.491000     0.361000    0.353000   127.000000   \n",
       "max       0.460000     0.671000     0.461000    0.451000   197.000000   \n",
       "\n",
       "               BsR          Off          Def          WAR  \n",
       "count  1376.000000  1376.000000  1376.000000  1376.000000  \n",
       "mean      0.263590     9.672602    -1.006686     2.942515  \n",
       "std       4.039138    17.415724    10.637574     2.079556  \n",
       "min     -12.600000   -35.500000   -35.300000    -3.100000  \n",
       "25%      -2.300000    -2.400000    -8.600000     1.500000  \n",
       "50%       0.300000     8.300000    -1.450000     2.800000  \n",
       "75%       2.900000    20.700000     5.725000     4.200000  \n",
       "max      14.300000    77.700000    48.300000    10.400000  "
      ]
     },
     "execution_count": 7,
     "metadata": {},
     "output_type": "execute_result"
    }
   ],
   "source": [
    "stat.describe()"
   ]
  },
  {
   "cell_type": "code",
   "execution_count": 8,
   "metadata": {},
   "outputs": [],
   "source": [
    "def split_train_test(data, test_ratio):\n",
    "    shuffled_indices = np.random.permutation(len(data))\n",
    "    test_set_size = int(len(data) * test_ratio)\n",
    "    test_indices = shuffled_indices[:test_set_size]\n",
    "    train_indices = shuffled_indices[test_set_size:]\n",
    "    return data.iloc[train_indices], data.iloc[test_indices]"
   ]
  },
  {
   "cell_type": "code",
   "execution_count": 9,
   "metadata": {},
   "outputs": [
    {
     "data": {
      "text/plain": [
       "0.1998546511627907"
      ]
     },
     "execution_count": 9,
     "metadata": {},
     "output_type": "execute_result"
    }
   ],
   "source": [
    "train_set, test_set = split_train_test(stat, 0.2)\n",
    "len(test_set) / (len(train_set) + len(test_set))"
   ]
  },
  {
   "cell_type": "code",
   "execution_count": 10,
   "metadata": {},
   "outputs": [],
   "source": [
    "def test_set_check(identifier, test_ratio):\n",
    "    return crc32(np.int64(identifier)) & 0xffffffff < test_ratio * 2**32"
   ]
  },
  {
   "cell_type": "code",
   "execution_count": 11,
   "metadata": {},
   "outputs": [],
   "source": [
    "def split_train_test_by_id(data, test_ratio, id_column):\n",
    "    ids = data[id_column]\n",
    "    in_test_set = ids.apply(lambda id_: test_set_check(id_, test_ratio))\n",
    "    return data.loc[~in_test_set], data.loc[in_test_set]"
   ]
  },
  {
   "cell_type": "code",
   "execution_count": 12,
   "metadata": {},
   "outputs": [],
   "source": [
    "stat_with_id = stat.reset_index()"
   ]
  },
  {
   "cell_type": "code",
   "execution_count": 13,
   "metadata": {},
   "outputs": [
    {
     "data": {
      "text/plain": [
       "0.19912790697674418"
      ]
     },
     "execution_count": 13,
     "metadata": {},
     "output_type": "execute_result"
    }
   ],
   "source": [
    "train_set, test_set = split_train_test_by_id(stat_with_id, 0.2, \"index\")\n",
    "len(test_set) / (len(train_set) + len(test_set))"
   ]
  },
  {
   "cell_type": "code",
   "execution_count": 14,
   "metadata": {},
   "outputs": [
    {
     "data": {
      "text/plain": [
       "0.2005813953488372"
      ]
     },
     "execution_count": 14,
     "metadata": {},
     "output_type": "execute_result"
    }
   ],
   "source": [
    "train_set, test_set = train_test_split(stat, test_size=0.2, random_state=42)\n",
    "len(test_set) / (len(train_set) + len(test_set))"
   ]
  },
  {
   "cell_type": "code",
   "execution_count": 15,
   "metadata": {},
   "outputs": [
    {
     "data": {
      "text/plain": [
       "<AxesSubplot:>"
      ]
     },
     "execution_count": 15,
     "metadata": {},
     "output_type": "execute_result"
    },
    {
     "data": {
      "image/png": "[encoded data removed]",
      "text/plain": [
       "<Figure size 432x288 with 1 Axes>"
      ]
     },
     "metadata": {
      "needs_background": "light"
     },
     "output_type": "display_data"
    }
   ],
   "source": [
    "stat[\"wRC+\"].hist()"
   ]
  },
  {
   "cell_type": "code",
   "execution_count": 16,
   "metadata": {},
   "outputs": [],
   "source": [
    "stat[\"wRC+_cat\"] = pd.cut(stat[\"wRC+\"],\n",
    "                          bins = [0, 80, 100, 120, 140, np.inf],\n",
    "                          labels = [1, 2, 3, 4, 5])"
   ]
  },
  {
   "cell_type": "code",
   "execution_count": 17,
   "metadata": {},
   "outputs": [
    {
     "data": {
      "text/plain": [
       "3    471\n",
       "4    333\n",
       "2    326\n",
       "5    139\n",
       "1    107\n",
       "Name: wRC+_cat, dtype: int64"
      ]
     },
     "execution_count": 17,
     "metadata": {},
     "output_type": "execute_result"
    }
   ],
   "source": [
    "stat[\"wRC+_cat\"].value_counts()"
   ]
  },
  {
   "cell_type": "code",
   "execution_count": 18,
   "metadata": {},
   "outputs": [
    {
     "data": {
      "text/plain": [
       "<AxesSubplot:>"
      ]
     },
     "execution_count": 18,
     "metadata": {},
     "output_type": "execute_result"
    },
    {
     "data": {
      "image/png": "[encoded data removed]",
      "text/plain": [
       "<Figure size 432x288 with 1 Axes>"
      ]
     },
     "metadata": {
      "needs_background": "light"
     },
     "output_type": "display_data"
    }
   ],
   "source": [
    "stat[\"wRC+_cat\"].hist()"
   ]
  },
  {
   "cell_type": "code",
   "execution_count": 19,
   "metadata": {},
   "outputs": [],
   "source": [
    "split = StratifiedShuffleSplit(n_splits=1, test_size=0.2, random_state=50)\n",
    "for train_index, test_index in split.split(stat, stat[\"wRC+_cat\"]):\n",
    "    train_set = stat.loc[train_index]\n",
    "    test_set = stat.loc[test_index]"
   ]
  },
  {
   "cell_type": "code",
   "execution_count": 20,
   "metadata": {},
   "outputs": [
    {
     "data": {
      "text/plain": [
       "0.2005813953488372"
      ]
     },
     "execution_count": 20,
     "metadata": {},
     "output_type": "execute_result"
    }
   ],
   "source": [
    "len(test_set) / (len(train_set) + len(test_set))"
   ]
  },
  {
   "cell_type": "code",
   "execution_count": 21,
   "metadata": {},
   "outputs": [
    {
     "data": {
      "text/plain": [
       "3    0.341818\n",
       "4    0.241818\n",
       "2    0.237273\n",
       "5    0.100909\n",
       "1    0.078182\n",
       "Name: wRC+_cat, dtype: float64"
      ]
     },
     "execution_count": 21,
     "metadata": {},
     "output_type": "execute_result"
    }
   ],
   "source": [
    "train_set[\"wRC+_cat\"].value_counts() / len(train_set)"
   ]
  },
  {
   "cell_type": "code",
   "execution_count": 22,
   "metadata": {},
   "outputs": [
    {
     "data": {
      "text/plain": [
       "3    0.344203\n",
       "4    0.242754\n",
       "2    0.235507\n",
       "5    0.101449\n",
       "1    0.076087\n",
       "Name: wRC+_cat, dtype: float64"
      ]
     },
     "execution_count": 22,
     "metadata": {},
     "output_type": "execute_result"
    }
   ],
   "source": [
    "test_set[\"wRC+_cat\"].value_counts() / len(test_set)"
   ]
  },
  {
   "cell_type": "code",
   "execution_count": 23,
   "metadata": {},
   "outputs": [],
   "source": [
    "for set_ in (train_set, test_set):\n",
    "    set_.drop(\"wRC+_cat\", axis=1, inplace=True)"
   ]
  },
  {
   "cell_type": "code",
   "execution_count": 24,
   "metadata": {},
   "outputs": [],
   "source": [
    "X_test = test_set.drop(\"WAR\", axis=1) # drop labels for training set\n",
    "y_test = test_set[\"WAR\"].copy()"
   ]
  },
  {
   "cell_type": "code",
   "execution_count": 25,
   "metadata": {},
   "outputs": [],
   "source": [
    "X_test = X_test.drop(\"Name\", axis=1)\n",
    "X_test = X_test.drop(\"Team\", axis=1)\n",
    "X_test = X_test.drop(\"BB%\", axis=1)\n",
    "X_test = X_test.drop(\"K%\", axis=1)"
   ]
  },
  {
   "cell_type": "code",
   "execution_count": 26,
   "metadata": {},
   "outputs": [],
   "source": [
    "corr_matrix = stat.corr()"
   ]
  },
  {
   "cell_type": "code",
   "execution_count": 27,
   "metadata": {},
   "outputs": [
    {
     "data": {
      "text/plain": [
       "WAR      1.000000\n",
       "Off      0.842420\n",
       "wRC+     0.773391\n",
       "wOBA     0.762155\n",
       "OBP      0.717540\n",
       "R        0.691671\n",
       "SLG      0.663603\n",
       "xwOBA    0.600415\n",
       "AVG      0.596545\n",
       "ISO      0.484323\n",
       "RBI      0.452780\n",
       "BABIP    0.446634\n",
       "HR       0.428924\n",
       "Def      0.426637\n",
       "PA       0.413795\n",
       "BsR      0.315019\n",
       "SB       0.222604\n",
       "G        0.216818\n",
       "#       -0.963613\n",
       "Name: WAR, dtype: float64"
      ]
     },
     "execution_count": 27,
     "metadata": {},
     "output_type": "execute_result"
    }
   ],
   "source": [
    "corr_matrix[\"WAR\"].sort_values(ascending=False)"
   ]
  },
  {
   "cell_type": "code",
   "execution_count": 28,
   "metadata": {},
   "outputs": [
    {
     "data": {
      "text/plain": [
       "array([[<AxesSubplot:xlabel='WAR', ylabel='WAR'>,\n",
       "        <AxesSubplot:xlabel='Off', ylabel='WAR'>,\n",
       "        <AxesSubplot:xlabel='wRC+', ylabel='WAR'>,\n",
       "        <AxesSubplot:xlabel='wOBA', ylabel='WAR'>],\n",
       "       [<AxesSubplot:xlabel='WAR', ylabel='Off'>,\n",
       "        <AxesSubplot:xlabel='Off', ylabel='Off'>,\n",
       "        <AxesSubplot:xlabel='wRC+', ylabel='Off'>,\n",
       "        <AxesSubplot:xlabel='wOBA', ylabel='Off'>],\n",
       "       [<AxesSubplot:xlabel='WAR', ylabel='wRC+'>,\n",
       "        <AxesSubplot:xlabel='Off', ylabel='wRC+'>,\n",
       "        <AxesSubplot:xlabel='wRC+', ylabel='wRC+'>,\n",
       "        <AxesSubplot:xlabel='wOBA', ylabel='wRC+'>],\n",
       "       [<AxesSubplot:xlabel='WAR', ylabel='wOBA'>,\n",
       "        <AxesSubplot:xlabel='Off', ylabel='wOBA'>,\n",
       "        <AxesSubplot:xlabel='wRC+', ylabel='wOBA'>,\n",
       "        <AxesSubplot:xlabel='wOBA', ylabel='wOBA'>]], dtype=object)"
      ]
     },
     "execution_count": 28,
     "metadata": {},
     "output_type": "execute_result"
    },
    {
     "data": {
      "image/png": "[encoded data removed]",
      "text/plain": [
       "<Figure size 864x576 with 16 Axes>"
      ]
     },
     "metadata": {
      "needs_background": "light"
     },
     "output_type": "display_data"
    }
   ],
   "source": [
    "attributes = [\"WAR\", \"Off\", \"wRC+\", \"wOBA\"]\n",
    "pd.plotting.scatter_matrix(stat[attributes], figsize=(12,8))"
   ]
  },
  {
   "cell_type": "code",
   "execution_count": 29,
   "metadata": {},
   "outputs": [
    {
     "data": {
      "text/plain": [
       "(0.0, 200.0, 0.0, 10.0)"
      ]
     },
     "execution_count": 29,
     "metadata": {},
     "output_type": "execute_result"
    },
    {
     "data": {
      "image/png": "[encoded data removed]",
      "text/plain": [
       "<Figure size 432x288 with 1 Axes>"
      ]
     },
     "metadata": {
      "needs_background": "light"
     },
     "output_type": "display_data"
    }
   ],
   "source": [
    "stat.plot(kind=\"scatter\", x=\"wRC+\", y=\"WAR\", alpha=0.1)\n",
    "plt.axis([0, 200, 0, 10])"
   ]
  },
  {
   "cell_type": "code",
   "execution_count": 30,
   "metadata": {},
   "outputs": [],
   "source": [
    "stat = train_set.drop(\"WAR\", axis=1) \n",
    "stat_labels = train_set[\"WAR\"].copy()"
   ]
  },
  {
   "cell_type": "code",
   "execution_count": 31,
   "metadata": {},
   "outputs": [],
   "source": [
    "stat_num = stat.drop(\"Name\", axis=1)\n",
    "stat_num = stat_num.drop(\"Team\", axis=1)\n",
    "stat_num = stat_num.drop(\"BB%\", axis=1)\n",
    "stat_num = stat_num.drop(\"K%\", axis=1)"
   ]
  },
  {
   "cell_type": "code",
   "execution_count": 32,
   "metadata": {},
   "outputs": [],
   "source": [
    "num_pipeline = Pipeline([\n",
    "        ('imputer', SimpleImputer(strategy=\"median\")),\n",
    "        ('std_scaler', StandardScaler()),\n",
    "    ])"
   ]
  },
  {
   "cell_type": "code",
   "execution_count": 33,
   "metadata": {},
   "outputs": [
    {
     "data": {
      "text/html": [
       "<div>\n",
       "<style scoped>\n",
       "    .dataframe tbody tr th:only-of-type {\n",
       "        vertical-align: middle;\n",
       "    }\n",
       "\n",
       "    .dataframe tbody tr th {\n",
       "        vertical-align: top;\n",
       "    }\n",
       "\n",
       "    .dataframe thead th {\n",
       "        text-align: right;\n",
       "    }\n",
       "</style>\n",
       "<table border=\"1\" class=\"dataframe\">\n",
       "  <thead>\n",
       "    <tr style=\"text-align: right;\">\n",
       "      <th></th>\n",
       "      <th>#</th>\n",
       "      <th>G</th>\n",
       "      <th>PA</th>\n",
       "      <th>HR</th>\n",
       "      <th>R</th>\n",
       "      <th>RBI</th>\n",
       "      <th>SB</th>\n",
       "      <th>ISO</th>\n",
       "      <th>BABIP</th>\n",
       "      <th>AVG</th>\n",
       "      <th>OBP</th>\n",
       "      <th>SLG</th>\n",
       "      <th>wOBA</th>\n",
       "      <th>xwOBA</th>\n",
       "      <th>wRC+</th>\n",
       "      <th>BsR</th>\n",
       "      <th>Off</th>\n",
       "      <th>Def</th>\n",
       "    </tr>\n",
       "  </thead>\n",
       "  <tbody>\n",
       "    <tr>\n",
       "      <th>352</th>\n",
       "      <td>59</td>\n",
       "      <td>151</td>\n",
       "      <td>615</td>\n",
       "      <td>32</td>\n",
       "      <td>68</td>\n",
       "      <td>108</td>\n",
       "      <td>6</td>\n",
       "      <td>0.237</td>\n",
       "      <td>0.303</td>\n",
       "      <td>0.262</td>\n",
       "      <td>0.322</td>\n",
       "      <td>0.499</td>\n",
       "      <td>0.350</td>\n",
       "      <td>NaN</td>\n",
       "      <td>117</td>\n",
       "      <td>-3.1</td>\n",
       "      <td>9.6</td>\n",
       "      <td>2.2</td>\n",
       "    </tr>\n",
       "    <tr>\n",
       "      <th>137</th>\n",
       "      <td>138</td>\n",
       "      <td>154</td>\n",
       "      <td>649</td>\n",
       "      <td>22</td>\n",
       "      <td>63</td>\n",
       "      <td>76</td>\n",
       "      <td>0</td>\n",
       "      <td>0.167</td>\n",
       "      <td>0.270</td>\n",
       "      <td>0.248</td>\n",
       "      <td>0.312</td>\n",
       "      <td>0.415</td>\n",
       "      <td>0.318</td>\n",
       "      <td>NaN</td>\n",
       "      <td>93</td>\n",
       "      <td>-4.8</td>\n",
       "      <td>-10.2</td>\n",
       "      <td>-14.0</td>\n",
       "    </tr>\n",
       "    <tr>\n",
       "      <th>399</th>\n",
       "      <td>106</td>\n",
       "      <td>147</td>\n",
       "      <td>561</td>\n",
       "      <td>8</td>\n",
       "      <td>67</td>\n",
       "      <td>45</td>\n",
       "      <td>26</td>\n",
       "      <td>0.107</td>\n",
       "      <td>0.293</td>\n",
       "      <td>0.243</td>\n",
       "      <td>0.306</td>\n",
       "      <td>0.349</td>\n",
       "      <td>0.290</td>\n",
       "      <td>NaN</td>\n",
       "      <td>87</td>\n",
       "      <td>6.1</td>\n",
       "      <td>-2.8</td>\n",
       "      <td>3.4</td>\n",
       "    </tr>\n",
       "    <tr>\n",
       "      <th>1301</th>\n",
       "      <td>8</td>\n",
       "      <td>155</td>\n",
       "      <td>698</td>\n",
       "      <td>33</td>\n",
       "      <td>110</td>\n",
       "      <td>117</td>\n",
       "      <td>4</td>\n",
       "      <td>0.246</td>\n",
       "      <td>0.338</td>\n",
       "      <td>0.309</td>\n",
       "      <td>0.384</td>\n",
       "      <td>0.555</td>\n",
       "      <td>0.390</td>\n",
       "      <td>0.349</td>\n",
       "      <td>141</td>\n",
       "      <td>1.0</td>\n",
       "      <td>37.7</td>\n",
       "      <td>8.1</td>\n",
       "    </tr>\n",
       "    <tr>\n",
       "      <th>332</th>\n",
       "      <td>39</td>\n",
       "      <td>144</td>\n",
       "      <td>567</td>\n",
       "      <td>20</td>\n",
       "      <td>70</td>\n",
       "      <td>79</td>\n",
       "      <td>3</td>\n",
       "      <td>0.174</td>\n",
       "      <td>0.352</td>\n",
       "      <td>0.293</td>\n",
       "      <td>0.372</td>\n",
       "      <td>0.467</td>\n",
       "      <td>0.365</td>\n",
       "      <td>NaN</td>\n",
       "      <td>132</td>\n",
       "      <td>-6.4</td>\n",
       "      <td>14.9</td>\n",
       "      <td>3.7</td>\n",
       "    </tr>\n",
       "  </tbody>\n",
       "</table>\n",
       "</div>"
      ],
      "text/plain": [
       "        #    G   PA  HR    R  RBI  SB    ISO  BABIP    AVG    OBP    SLG  \\\n",
       "352    59  151  615  32   68  108   6  0.237  0.303  0.262  0.322  0.499   \n",
       "137   138  154  649  22   63   76   0  0.167  0.270  0.248  0.312  0.415   \n",
       "399   106  147  561   8   67   45  26  0.107  0.293  0.243  0.306  0.349   \n",
       "1301    8  155  698  33  110  117   4  0.246  0.338  0.309  0.384  0.555   \n",
       "332    39  144  567  20   70   79   3  0.174  0.352  0.293  0.372  0.467   \n",
       "\n",
       "       wOBA  xwOBA  wRC+  BsR   Off   Def  \n",
       "352   0.350    NaN   117 -3.1   9.6   2.2  \n",
       "137   0.318    NaN    93 -4.8 -10.2 -14.0  \n",
       "399   0.290    NaN    87  6.1  -2.8   3.4  \n",
       "1301  0.390  0.349   141  1.0  37.7   8.1  \n",
       "332   0.365    NaN   132 -6.4  14.9   3.7  "
      ]
     },
     "execution_count": 33,
     "metadata": {},
     "output_type": "execute_result"
    }
   ],
   "source": [
    "stat_num.head()"
   ]
  },
  {
   "cell_type": "code",
   "execution_count": 34,
   "metadata": {},
   "outputs": [],
   "source": [
    "imputer = SimpleImputer(strategy=\"median\")"
   ]
  },
  {
   "cell_type": "code",
   "execution_count": 35,
   "metadata": {},
   "outputs": [
    {
     "data": {
      "text/plain": [
       "SimpleImputer(strategy='median')"
      ]
     },
     "execution_count": 35,
     "metadata": {},
     "output_type": "execute_result"
    }
   ],
   "source": [
    "imputer.fit(stat_num)"
   ]
  },
  {
   "cell_type": "code",
   "execution_count": 36,
   "metadata": {},
   "outputs": [
    {
     "data": {
      "text/plain": [
       "'median'"
      ]
     },
     "execution_count": 36,
     "metadata": {},
     "output_type": "execute_result"
    }
   ],
   "source": [
    "imputer.strategy"
   ]
  },
  {
   "cell_type": "code",
   "execution_count": 37,
   "metadata": {},
   "outputs": [
    {
     "data": {
      "text/plain": [
       "array([ 6.90e+01,  1.48e+02,  6.10e+02,  2.00e+01,  7.60e+01,  7.40e+01,\n",
       "        7.00e+00,  1.74e-01,  3.06e-01,  2.71e-01,  3.37e-01,  4.45e-01,\n",
       "        3.37e-01,  3.29e-01,  1.11e+02,  3.00e-01,  8.35e+00, -1.40e+00])"
      ]
     },
     "execution_count": 37,
     "metadata": {},
     "output_type": "execute_result"
    }
   ],
   "source": [
    "imputer.statistics_"
   ]
  },
  {
   "cell_type": "code",
   "execution_count": 38,
   "metadata": {},
   "outputs": [
    {
     "data": {
      "text/plain": [
       "array([ 6.90e+01,  1.48e+02,  6.10e+02,  2.00e+01,  7.60e+01,  7.40e+01,\n",
       "        7.00e+00,  1.74e-01,  3.06e-01,  2.71e-01,  3.37e-01,  4.45e-01,\n",
       "        3.37e-01,  3.29e-01,  1.11e+02,  3.00e-01,  8.35e+00, -1.40e+00])"
      ]
     },
     "execution_count": 38,
     "metadata": {},
     "output_type": "execute_result"
    }
   ],
   "source": [
    "stat_num.median().values"
   ]
  },
  {
   "cell_type": "code",
   "execution_count": 39,
   "metadata": {},
   "outputs": [],
   "source": [
    "X = imputer.transform(stat_num)"
   ]
  },
  {
   "cell_type": "code",
   "execution_count": 40,
   "metadata": {},
   "outputs": [],
   "source": [
    "stat_tr = pd.DataFrame(X, columns = stat_num.columns, index=stat.index)"
   ]
  },
  {
   "cell_type": "code",
   "execution_count": 44,
   "metadata": {},
   "outputs": [
    {
     "data": {
      "text/plain": [
       "array([[-0.26924189,  0.42818094,  0.11028324, ..., -0.85363271,\n",
       "        -0.01028497,  0.28506869],\n",
       "       [ 1.63420102,  0.7102726 ,  0.67290678, ..., -1.27297049,\n",
       "        -1.14334825, -1.22555462],\n",
       "       [ 0.86318617,  0.05205873, -0.78329532, ...,  1.41572474,\n",
       "        -0.71988016,  0.39696671],\n",
       "       ...,\n",
       "       [-1.3052931 , -0.13600237,  0.2261175 , ..., -0.80429885,\n",
       "         1.90676654, -1.28150363],\n",
       "       [-1.57032945,  1.46251701,  2.2945864 , ...,  0.33037987,\n",
       "         1.626362  ,  1.39472408],\n",
       "       [ 0.23673661, -1.17033844, -0.75019982, ..., -1.54430671,\n",
       "         0.327345  , -0.77796253]])"
      ]
     },
     "execution_count": 44,
     "metadata": {},
     "output_type": "execute_result"
    }
   ],
   "source": [
    "stat_num_tr = num_pipeline.fit_transform(stat_num)\n",
    "stat_num_tr"
   ]
  },
  {
   "cell_type": "code",
   "execution_count": 45,
   "metadata": {},
   "outputs": [
    {
     "data": {
      "text/plain": [
       "(1100, 18)"
      ]
     },
     "execution_count": 45,
     "metadata": {},
     "output_type": "execute_result"
    }
   ],
   "source": [
    "stat_num_tr.shape"
   ]
  },
  {
   "cell_type": "code",
   "execution_count": 46,
   "metadata": {},
   "outputs": [
    {
     "data": {
      "text/plain": [
       "LinearRegression()"
      ]
     },
     "execution_count": 46,
     "metadata": {},
     "output_type": "execute_result"
    }
   ],
   "source": [
    "lin_reg = LinearRegression()\n",
    "lin_reg.fit(stat_num_tr, stat_labels)"
   ]
  },
  {
   "cell_type": "code",
   "execution_count": 47,
   "metadata": {},
   "outputs": [],
   "source": [
    "stat = stat.drop(\"Name\", axis=1)\n",
    "stat = stat.drop(\"Team\", axis=1)\n",
    "stat = stat.drop(\"BB%\", axis=1)\n",
    "stat = stat.drop(\"K%\", axis=1)"
   ]
  },
  {
   "cell_type": "code",
   "execution_count": 48,
   "metadata": {},
   "outputs": [
    {
     "name": "stdout",
     "output_type": "stream",
     "text": [
      "Predictions: [ 3.31528559 -0.29100273  1.94108739  6.94176619  3.89805991]\n"
     ]
    }
   ],
   "source": [
    "some_data = stat.iloc[:5]\n",
    "some_data_prepared = num_pipeline.transform(some_data)\n",
    "print(\"Predictions:\", lin_reg.predict(some_data_prepared))"
   ]
  },
  {
   "cell_type": "code",
   "execution_count": 49,
   "metadata": {},
   "outputs": [
    {
     "data": {
      "text/plain": [
       "0.10781686784085856"
      ]
     },
     "execution_count": 49,
     "metadata": {},
     "output_type": "execute_result"
    }
   ],
   "source": [
    "stat_predictions = lin_reg.predict(stat_num_tr)\n",
    "lin_mse = mean_squared_error(stat_labels, stat_predictions)\n",
    "lin_rmse = np.sqrt(lin_mse)\n",
    "lin_rmse"
   ]
  },
  {
   "cell_type": "code",
   "execution_count": 50,
   "metadata": {},
   "outputs": [
    {
     "data": {
      "text/plain": [
       "0.08903781997363665"
      ]
     },
     "execution_count": 50,
     "metadata": {},
     "output_type": "execute_result"
    }
   ],
   "source": [
    "lin_mae = mean_absolute_error(stat_labels, stat_predictions)\n",
    "lin_mae"
   ]
  },
  {
   "cell_type": "code",
   "execution_count": 51,
   "metadata": {},
   "outputs": [],
   "source": [
    "from sklearn.tree import DecisionTreeRegressor"
   ]
  },
  {
   "cell_type": "code",
   "execution_count": 52,
   "metadata": {},
   "outputs": [
    {
     "data": {
      "text/plain": [
       "DecisionTreeRegressor(random_state=50)"
      ]
     },
     "execution_count": 52,
     "metadata": {},
     "output_type": "execute_result"
    }
   ],
   "source": [
    "tree_reg = DecisionTreeRegressor(random_state=50)\n",
    "tree_reg.fit(stat_num_tr, stat_labels)"
   ]
  },
  {
   "cell_type": "code",
   "execution_count": 53,
   "metadata": {},
   "outputs": [
    {
     "name": "stdout",
     "output_type": "stream",
     "text": [
      "Predictions: [ 3.2 -0.1  1.8  6.8  3.7]\n"
     ]
    }
   ],
   "source": [
    "some_data = stat.iloc[:5]\n",
    "some_data_prepared = num_pipeline.transform(some_data)\n",
    "print(\"Predictions:\", tree_reg.predict(some_data_prepared))"
   ]
  },
  {
   "cell_type": "code",
   "execution_count": 54,
   "metadata": {},
   "outputs": [
    {
     "name": "stdout",
     "output_type": "stream",
     "text": [
      "Labels: [3.2, -0.1, 1.8, 6.8, 3.7]\n"
     ]
    }
   ],
   "source": [
    "some_labels = stat_labels.iloc[:5]\n",
    "print(\"Labels:\", list(some_labels))"
   ]
  },
  {
   "cell_type": "code",
   "execution_count": 55,
   "metadata": {},
   "outputs": [
    {
     "data": {
      "text/plain": [
       "7.901923793763022e-17"
      ]
     },
     "execution_count": 55,
     "metadata": {},
     "output_type": "execute_result"
    }
   ],
   "source": [
    "stat_predictions = tree_reg.predict(stat_num_tr)\n",
    "tree_reg_mse = mean_squared_error(stat_labels, stat_predictions)\n",
    "tree_reg_rmse = np.sqrt(tree_reg_mse)\n",
    "tree_reg_rmse"
   ]
  },
  {
   "cell_type": "code",
   "execution_count": 56,
   "metadata": {},
   "outputs": [
    {
     "data": {
      "text/plain": [
       "1.3940868661486342e-17"
      ]
     },
     "execution_count": 56,
     "metadata": {},
     "output_type": "execute_result"
    }
   ],
   "source": [
    "tree_reg_mae = mean_absolute_error(stat_labels, stat_predictions)\n",
    "tree_reg_mae"
   ]
  },
  {
   "cell_type": "code",
   "execution_count": 57,
   "metadata": {},
   "outputs": [
    {
     "data": {
      "text/plain": [
       "count    10.000000\n",
       "mean      0.109727\n",
       "std       0.008418\n",
       "min       0.099113\n",
       "25%       0.103977\n",
       "50%       0.108382\n",
       "75%       0.113750\n",
       "max       0.126855\n",
       "dtype: float64"
      ]
     },
     "execution_count": 57,
     "metadata": {},
     "output_type": "execute_result"
    }
   ],
   "source": [
    "lin_reg = LinearRegression()\n",
    "lin_scores = cross_val_score(lin_reg, stat_num_tr, stat_labels,\n",
    "                                scoring=\"neg_mean_squared_error\", cv=10)\n",
    "pd.Series(np.sqrt(-lin_scores)).describe()"
   ]
  },
  {
   "cell_type": "code",
   "execution_count": 58,
   "metadata": {},
   "outputs": [
    {
     "data": {
      "text/plain": [
       "count    10.000000\n",
       "mean      0.370523\n",
       "std       0.054531\n",
       "min       0.276340\n",
       "25%       0.330066\n",
       "50%       0.383700\n",
       "75%       0.415901\n",
       "max       0.434950\n",
       "dtype: float64"
      ]
     },
     "execution_count": 58,
     "metadata": {},
     "output_type": "execute_result"
    }
   ],
   "source": [
    "tree_reg = DecisionTreeRegressor(random_state=50)\n",
    "tree_scores = cross_val_score(tree_reg, stat_num_tr, stat_labels,\n",
    "                                scoring=\"neg_mean_squared_error\", cv=10)\n",
    "pd.Series(np.sqrt(-tree_scores)).describe()"
   ]
  },
  {
   "cell_type": "code",
   "execution_count": 59,
   "metadata": {},
   "outputs": [
    {
     "data": {
      "text/plain": [
       "count    10.000000\n",
       "mean      0.272539\n",
       "std       0.041084\n",
       "min       0.218372\n",
       "25%       0.239583\n",
       "50%       0.267313\n",
       "75%       0.309975\n",
       "max       0.326325\n",
       "dtype: float64"
      ]
     },
     "execution_count": 59,
     "metadata": {},
     "output_type": "execute_result"
    }
   ],
   "source": [
    "forest_reg = RandomForestRegressor(n_estimators=100, random_state=50)\n",
    "forest_scores = cross_val_score(forest_reg, stat_num_tr, stat_labels,\n",
    "                                scoring=\"neg_mean_squared_error\", cv=10)\n",
    "pd.Series(np.sqrt(-forest_scores)).describe()"
   ]
  },
  {
   "cell_type": "code",
   "execution_count": 60,
   "metadata": {},
   "outputs": [
    {
     "data": {
      "text/plain": [
       "count    10.000000\n",
       "mean      0.110066\n",
       "std       0.008139\n",
       "min       0.101140\n",
       "25%       0.104881\n",
       "50%       0.108279\n",
       "75%       0.114057\n",
       "max       0.126935\n",
       "dtype: float64"
      ]
     },
     "execution_count": 60,
     "metadata": {},
     "output_type": "execute_result"
    }
   ],
   "source": [
    "svm_reg = SVR(kernel=\"linear\")\n",
    "svm_scores = cross_val_score(svm_reg, stat_num_tr, stat_labels,\n",
    "                                scoring=\"neg_mean_squared_error\", cv=10)\n",
    "pd.Series(np.sqrt(-svm_scores)).describe()"
   ]
  },
  {
   "cell_type": "code",
   "execution_count": 61,
   "metadata": {},
   "outputs": [],
   "source": [
    "param_grid = [\n",
    "    {'n_estimators': [3, 10, 30], 'max_features': [2, 4, 6, 8]},\n",
    "    {'bootstrap': [False], 'n_estimators': [3, 10], 'max_features': [2, 3, 4]},\n",
    "  ]"
   ]
  },
  {
   "cell_type": "code",
   "execution_count": 76,
   "metadata": {},
   "outputs": [],
   "source": [
    "forest_reg = RandomForestRegressor(random_state=50)"
   ]
  },
  {
   "cell_type": "code",
   "execution_count": 103,
   "metadata": {},
   "outputs": [
    {
     "data": {
      "text/plain": [
       "GridSearchCV(cv=5, estimator=RandomForestRegressor(random_state=50),\n",
       "             param_grid=[{'max_features': [2, 4, 6, 8],\n",
       "                          'n_estimators': [3, 10, 30]},\n",
       "                         {'bootstrap': [False], 'max_features': [2, 3, 4],\n",
       "                          'n_estimators': [3, 10]}],\n",
       "             return_train_score=True, scoring='neg_mean_squared_error')"
      ]
     },
     "execution_count": 103,
     "metadata": {},
     "output_type": "execute_result"
    }
   ],
   "source": [
    "grid_search = GridSearchCV(forest_reg, param_grid, cv=5,\n",
    "                           scoring='neg_mean_squared_error',\n",
    "                           return_train_score=True)\n",
    "grid_search.fit(stat_num_tr, stat_labels)"
   ]
  },
  {
   "cell_type": "code",
   "execution_count": 104,
   "metadata": {},
   "outputs": [
    {
     "data": {
      "text/plain": [
       "{'max_features': 8, 'n_estimators': 30}"
      ]
     },
     "execution_count": 104,
     "metadata": {},
     "output_type": "execute_result"
    }
   ],
   "source": [
    "grid_search.best_params_"
   ]
  },
  {
   "cell_type": "code",
   "execution_count": 106,
   "metadata": {},
   "outputs": [
    {
     "data": {
      "text/plain": [
       "RandomForestRegressor(max_features=8, n_estimators=30, random_state=50)"
      ]
     },
     "execution_count": 106,
     "metadata": {},
     "output_type": "execute_result"
    }
   ],
   "source": [
    "grid_search.best_estimator_"
   ]
  },
  {
   "cell_type": "code",
   "execution_count": 107,
   "metadata": {},
   "outputs": [
    {
     "data": {
      "text/html": [
       "<div>\n",
       "<style scoped>\n",
       "    .dataframe tbody tr th:only-of-type {\n",
       "        vertical-align: middle;\n",
       "    }\n",
       "\n",
       "    .dataframe tbody tr th {\n",
       "        vertical-align: top;\n",
       "    }\n",
       "\n",
       "    .dataframe thead th {\n",
       "        text-align: right;\n",
       "    }\n",
       "</style>\n",
       "<table border=\"1\" class=\"dataframe\">\n",
       "  <thead>\n",
       "    <tr style=\"text-align: right;\">\n",
       "      <th></th>\n",
       "      <th>mean_fit_time</th>\n",
       "      <th>std_fit_time</th>\n",
       "      <th>mean_score_time</th>\n",
       "      <th>std_score_time</th>\n",
       "      <th>param_max_features</th>\n",
       "      <th>param_n_estimators</th>\n",
       "      <th>param_bootstrap</th>\n",
       "      <th>params</th>\n",
       "      <th>split0_test_score</th>\n",
       "      <th>split1_test_score</th>\n",
       "      <th>...</th>\n",
       "      <th>mean_test_score</th>\n",
       "      <th>std_test_score</th>\n",
       "      <th>rank_test_score</th>\n",
       "      <th>split0_train_score</th>\n",
       "      <th>split1_train_score</th>\n",
       "      <th>split2_train_score</th>\n",
       "      <th>split3_train_score</th>\n",
       "      <th>split4_train_score</th>\n",
       "      <th>mean_train_score</th>\n",
       "      <th>std_train_score</th>\n",
       "    </tr>\n",
       "  </thead>\n",
       "  <tbody>\n",
       "    <tr>\n",
       "      <th>0</th>\n",
       "      <td>0.027132</td>\n",
       "      <td>0.026675</td>\n",
       "      <td>0.003123</td>\n",
       "      <td>0.002855</td>\n",
       "      <td>2</td>\n",
       "      <td>3</td>\n",
       "      <td>NaN</td>\n",
       "      <td>{'max_features': 2, 'n_estimators': 3}</td>\n",
       "      <td>-0.564359</td>\n",
       "      <td>-0.662035</td>\n",
       "      <td>...</td>\n",
       "      <td>-0.642198</td>\n",
       "      <td>0.069601</td>\n",
       "      <td>18</td>\n",
       "      <td>-1.650328e-01</td>\n",
       "      <td>-2.068510e-01</td>\n",
       "      <td>-1.563258e-01</td>\n",
       "      <td>-2.074078e-01</td>\n",
       "      <td>-1.749318e-01</td>\n",
       "      <td>-1.821098e-01</td>\n",
       "      <td>2.126067e-02</td>\n",
       "    </tr>\n",
       "    <tr>\n",
       "      <th>1</th>\n",
       "      <td>0.044204</td>\n",
       "      <td>0.010854</td>\n",
       "      <td>0.003904</td>\n",
       "      <td>0.002139</td>\n",
       "      <td>2</td>\n",
       "      <td>10</td>\n",
       "      <td>NaN</td>\n",
       "      <td>{'max_features': 2, 'n_estimators': 10}</td>\n",
       "      <td>-0.423802</td>\n",
       "      <td>-0.284265</td>\n",
       "      <td>...</td>\n",
       "      <td>-0.388748</td>\n",
       "      <td>0.073848</td>\n",
       "      <td>16</td>\n",
       "      <td>-9.793352e-02</td>\n",
       "      <td>-7.293682e-02</td>\n",
       "      <td>-6.579352e-02</td>\n",
       "      <td>-7.298739e-02</td>\n",
       "      <td>-8.046227e-02</td>\n",
       "      <td>-7.802270e-02</td>\n",
       "      <td>1.098331e-02</td>\n",
       "    </tr>\n",
       "    <tr>\n",
       "      <th>2</th>\n",
       "      <td>0.177119</td>\n",
       "      <td>0.109362</td>\n",
       "      <td>0.010931</td>\n",
       "      <td>0.008804</td>\n",
       "      <td>2</td>\n",
       "      <td>30</td>\n",
       "      <td>NaN</td>\n",
       "      <td>{'max_features': 2, 'n_estimators': 30}</td>\n",
       "      <td>-0.313579</td>\n",
       "      <td>-0.209272</td>\n",
       "      <td>...</td>\n",
       "      <td>-0.304465</td>\n",
       "      <td>0.074485</td>\n",
       "      <td>13</td>\n",
       "      <td>-5.515314e-02</td>\n",
       "      <td>-4.307431e-02</td>\n",
       "      <td>-4.860566e-02</td>\n",
       "      <td>-4.873636e-02</td>\n",
       "      <td>-5.350346e-02</td>\n",
       "      <td>-4.981459e-02</td>\n",
       "      <td>4.246491e-03</td>\n",
       "    </tr>\n",
       "    <tr>\n",
       "      <th>3</th>\n",
       "      <td>0.027040</td>\n",
       "      <td>0.004579</td>\n",
       "      <td>0.003031</td>\n",
       "      <td>0.000992</td>\n",
       "      <td>4</td>\n",
       "      <td>3</td>\n",
       "      <td>NaN</td>\n",
       "      <td>{'max_features': 4, 'n_estimators': 3}</td>\n",
       "      <td>-0.199955</td>\n",
       "      <td>-0.226455</td>\n",
       "      <td>...</td>\n",
       "      <td>-0.280530</td>\n",
       "      <td>0.079796</td>\n",
       "      <td>12</td>\n",
       "      <td>-7.914646e-02</td>\n",
       "      <td>-7.806061e-02</td>\n",
       "      <td>-7.120328e-02</td>\n",
       "      <td>-8.913131e-02</td>\n",
       "      <td>-8.254419e-02</td>\n",
       "      <td>-8.001717e-02</td>\n",
       "      <td>5.860449e-03</td>\n",
       "    </tr>\n",
       "    <tr>\n",
       "      <th>4</th>\n",
       "      <td>0.048520</td>\n",
       "      <td>0.009206</td>\n",
       "      <td>0.002734</td>\n",
       "      <td>0.001294</td>\n",
       "      <td>4</td>\n",
       "      <td>10</td>\n",
       "      <td>NaN</td>\n",
       "      <td>{'max_features': 4, 'n_estimators': 10}</td>\n",
       "      <td>-0.176780</td>\n",
       "      <td>-0.127520</td>\n",
       "      <td>...</td>\n",
       "      <td>-0.170590</td>\n",
       "      <td>0.040792</td>\n",
       "      <td>8</td>\n",
       "      <td>-4.120977e-02</td>\n",
       "      <td>-3.704511e-02</td>\n",
       "      <td>-2.740386e-02</td>\n",
       "      <td>-3.363148e-02</td>\n",
       "      <td>-3.317011e-02</td>\n",
       "      <td>-3.449207e-02</td>\n",
       "      <td>4.568948e-03</td>\n",
       "    </tr>\n",
       "    <tr>\n",
       "      <th>5</th>\n",
       "      <td>0.136945</td>\n",
       "      <td>0.039436</td>\n",
       "      <td>0.006050</td>\n",
       "      <td>0.001680</td>\n",
       "      <td>4</td>\n",
       "      <td>30</td>\n",
       "      <td>NaN</td>\n",
       "      <td>{'max_features': 4, 'n_estimators': 30}</td>\n",
       "      <td>-0.141252</td>\n",
       "      <td>-0.103447</td>\n",
       "      <td>...</td>\n",
       "      <td>-0.128588</td>\n",
       "      <td>0.026858</td>\n",
       "      <td>5</td>\n",
       "      <td>-2.506447e-02</td>\n",
       "      <td>-2.223582e-02</td>\n",
       "      <td>-1.925896e-02</td>\n",
       "      <td>-2.037386e-02</td>\n",
       "      <td>-1.974973e-02</td>\n",
       "      <td>-2.133657e-02</td>\n",
       "      <td>2.119773e-03</td>\n",
       "    </tr>\n",
       "    <tr>\n",
       "      <th>6</th>\n",
       "      <td>0.051405</td>\n",
       "      <td>0.042828</td>\n",
       "      <td>0.004487</td>\n",
       "      <td>0.003982</td>\n",
       "      <td>6</td>\n",
       "      <td>3</td>\n",
       "      <td>NaN</td>\n",
       "      <td>{'max_features': 6, 'n_estimators': 3}</td>\n",
       "      <td>-0.173495</td>\n",
       "      <td>-0.200576</td>\n",
       "      <td>...</td>\n",
       "      <td>-0.177183</td>\n",
       "      <td>0.022118</td>\n",
       "      <td>9</td>\n",
       "      <td>-6.568434e-02</td>\n",
       "      <td>-5.891540e-02</td>\n",
       "      <td>-4.999621e-02</td>\n",
       "      <td>-5.777904e-02</td>\n",
       "      <td>-5.140909e-02</td>\n",
       "      <td>-5.675682e-02</td>\n",
       "      <td>5.651710e-03</td>\n",
       "    </tr>\n",
       "    <tr>\n",
       "      <th>7</th>\n",
       "      <td>0.046083</td>\n",
       "      <td>0.014625</td>\n",
       "      <td>0.002129</td>\n",
       "      <td>0.000401</td>\n",
       "      <td>6</td>\n",
       "      <td>10</td>\n",
       "      <td>NaN</td>\n",
       "      <td>{'max_features': 6, 'n_estimators': 10}</td>\n",
       "      <td>-0.089385</td>\n",
       "      <td>-0.093965</td>\n",
       "      <td>...</td>\n",
       "      <td>-0.105689</td>\n",
       "      <td>0.023465</td>\n",
       "      <td>4</td>\n",
       "      <td>-2.608636e-02</td>\n",
       "      <td>-2.288261e-02</td>\n",
       "      <td>-1.978523e-02</td>\n",
       "      <td>-2.226807e-02</td>\n",
       "      <td>-2.406625e-02</td>\n",
       "      <td>-2.301770e-02</td>\n",
       "      <td>2.075824e-03</td>\n",
       "    </tr>\n",
       "    <tr>\n",
       "      <th>8</th>\n",
       "      <td>0.178340</td>\n",
       "      <td>0.048992</td>\n",
       "      <td>0.014629</td>\n",
       "      <td>0.018069</td>\n",
       "      <td>6</td>\n",
       "      <td>30</td>\n",
       "      <td>NaN</td>\n",
       "      <td>{'max_features': 6, 'n_estimators': 30}</td>\n",
       "      <td>-0.073255</td>\n",
       "      <td>-0.077285</td>\n",
       "      <td>...</td>\n",
       "      <td>-0.093528</td>\n",
       "      <td>0.025750</td>\n",
       "      <td>2</td>\n",
       "      <td>-1.536169e-02</td>\n",
       "      <td>-1.521563e-02</td>\n",
       "      <td>-1.495711e-02</td>\n",
       "      <td>-1.582792e-02</td>\n",
       "      <td>-1.542475e-02</td>\n",
       "      <td>-1.535742e-02</td>\n",
       "      <td>2.850514e-04</td>\n",
       "    </tr>\n",
       "    <tr>\n",
       "      <th>9</th>\n",
       "      <td>0.022940</td>\n",
       "      <td>0.005542</td>\n",
       "      <td>0.001171</td>\n",
       "      <td>0.000390</td>\n",
       "      <td>8</td>\n",
       "      <td>3</td>\n",
       "      <td>NaN</td>\n",
       "      <td>{'max_features': 8, 'n_estimators': 3}</td>\n",
       "      <td>-0.171328</td>\n",
       "      <td>-0.163091</td>\n",
       "      <td>...</td>\n",
       "      <td>-0.148318</td>\n",
       "      <td>0.023748</td>\n",
       "      <td>7</td>\n",
       "      <td>-5.677652e-02</td>\n",
       "      <td>-5.959722e-02</td>\n",
       "      <td>-4.021086e-02</td>\n",
       "      <td>-5.153788e-02</td>\n",
       "      <td>-4.119949e-02</td>\n",
       "      <td>-4.986439e-02</td>\n",
       "      <td>7.919307e-03</td>\n",
       "    </tr>\n",
       "    <tr>\n",
       "      <th>10</th>\n",
       "      <td>0.053383</td>\n",
       "      <td>0.007996</td>\n",
       "      <td>0.002147</td>\n",
       "      <td>0.000391</td>\n",
       "      <td>8</td>\n",
       "      <td>10</td>\n",
       "      <td>NaN</td>\n",
       "      <td>{'max_features': 8, 'n_estimators': 10}</td>\n",
       "      <td>-0.077433</td>\n",
       "      <td>-0.098359</td>\n",
       "      <td>...</td>\n",
       "      <td>-0.094290</td>\n",
       "      <td>0.015810</td>\n",
       "      <td>3</td>\n",
       "      <td>-1.917386e-02</td>\n",
       "      <td>-1.928023e-02</td>\n",
       "      <td>-1.739557e-02</td>\n",
       "      <td>-2.190159e-02</td>\n",
       "      <td>-1.602352e-02</td>\n",
       "      <td>-1.875495e-02</td>\n",
       "      <td>1.982996e-03</td>\n",
       "    </tr>\n",
       "    <tr>\n",
       "      <th>11</th>\n",
       "      <td>0.230347</td>\n",
       "      <td>0.129953</td>\n",
       "      <td>0.004099</td>\n",
       "      <td>0.000956</td>\n",
       "      <td>8</td>\n",
       "      <td>30</td>\n",
       "      <td>NaN</td>\n",
       "      <td>{'max_features': 8, 'n_estimators': 30}</td>\n",
       "      <td>-0.068916</td>\n",
       "      <td>-0.070313</td>\n",
       "      <td>...</td>\n",
       "      <td>-0.082930</td>\n",
       "      <td>0.020039</td>\n",
       "      <td>1</td>\n",
       "      <td>-1.223157e-02</td>\n",
       "      <td>-1.168659e-02</td>\n",
       "      <td>-1.265741e-02</td>\n",
       "      <td>-1.351303e-02</td>\n",
       "      <td>-1.197034e-02</td>\n",
       "      <td>-1.241179e-02</td>\n",
       "      <td>6.366054e-04</td>\n",
       "    </tr>\n",
       "    <tr>\n",
       "      <th>12</th>\n",
       "      <td>0.013469</td>\n",
       "      <td>0.001434</td>\n",
       "      <td>0.001952</td>\n",
       "      <td>0.000617</td>\n",
       "      <td>2</td>\n",
       "      <td>3</td>\n",
       "      <td>False</td>\n",
       "      <td>{'bootstrap': False, 'max_features': 2, 'n_est...</td>\n",
       "      <td>-0.493682</td>\n",
       "      <td>-0.404646</td>\n",
       "      <td>...</td>\n",
       "      <td>-0.510114</td>\n",
       "      <td>0.126133</td>\n",
       "      <td>17</td>\n",
       "      <td>-5.652473e-32</td>\n",
       "      <td>-6.537131e-32</td>\n",
       "      <td>-6.019406e-32</td>\n",
       "      <td>-5.844300e-32</td>\n",
       "      <td>-6.036280e-32</td>\n",
       "      <td>-6.017918e-32</td>\n",
       "      <td>2.944878e-33</td>\n",
       "    </tr>\n",
       "    <tr>\n",
       "      <th>13</th>\n",
       "      <td>0.034940</td>\n",
       "      <td>0.003621</td>\n",
       "      <td>0.002148</td>\n",
       "      <td>0.000957</td>\n",
       "      <td>2</td>\n",
       "      <td>10</td>\n",
       "      <td>False</td>\n",
       "      <td>{'bootstrap': False, 'max_features': 2, 'n_est...</td>\n",
       "      <td>-0.375966</td>\n",
       "      <td>-0.244471</td>\n",
       "      <td>...</td>\n",
       "      <td>-0.349317</td>\n",
       "      <td>0.076174</td>\n",
       "      <td>15</td>\n",
       "      <td>-2.573782e-31</td>\n",
       "      <td>-2.623589e-31</td>\n",
       "      <td>-2.466871e-31</td>\n",
       "      <td>-2.599513e-31</td>\n",
       "      <td>-2.611147e-31</td>\n",
       "      <td>-2.574981e-31</td>\n",
       "      <td>5.650092e-33</td>\n",
       "    </tr>\n",
       "    <tr>\n",
       "      <th>14</th>\n",
       "      <td>0.011513</td>\n",
       "      <td>0.001662</td>\n",
       "      <td>0.001182</td>\n",
       "      <td>0.000386</td>\n",
       "      <td>3</td>\n",
       "      <td>3</td>\n",
       "      <td>False</td>\n",
       "      <td>{'bootstrap': False, 'max_features': 3, 'n_est...</td>\n",
       "      <td>-0.471707</td>\n",
       "      <td>-0.265929</td>\n",
       "      <td>...</td>\n",
       "      <td>-0.339554</td>\n",
       "      <td>0.099149</td>\n",
       "      <td>14</td>\n",
       "      <td>-5.652473e-32</td>\n",
       "      <td>-6.537131e-32</td>\n",
       "      <td>-6.019406e-32</td>\n",
       "      <td>-5.844300e-32</td>\n",
       "      <td>-6.036280e-32</td>\n",
       "      <td>-6.017918e-32</td>\n",
       "      <td>2.944878e-33</td>\n",
       "    </tr>\n",
       "    <tr>\n",
       "      <th>15</th>\n",
       "      <td>0.072246</td>\n",
       "      <td>0.051441</td>\n",
       "      <td>0.003330</td>\n",
       "      <td>0.001319</td>\n",
       "      <td>3</td>\n",
       "      <td>10</td>\n",
       "      <td>False</td>\n",
       "      <td>{'bootstrap': False, 'max_features': 3, 'n_est...</td>\n",
       "      <td>-0.208870</td>\n",
       "      <td>-0.170624</td>\n",
       "      <td>...</td>\n",
       "      <td>-0.224594</td>\n",
       "      <td>0.062362</td>\n",
       "      <td>10</td>\n",
       "      <td>-2.583860e-31</td>\n",
       "      <td>-2.615185e-31</td>\n",
       "      <td>-2.471809e-31</td>\n",
       "      <td>-2.606105e-31</td>\n",
       "      <td>-2.598856e-31</td>\n",
       "      <td>-2.575163e-31</td>\n",
       "      <td>5.268464e-33</td>\n",
       "    </tr>\n",
       "    <tr>\n",
       "      <th>16</th>\n",
       "      <td>0.016201</td>\n",
       "      <td>0.004561</td>\n",
       "      <td>0.001757</td>\n",
       "      <td>0.000391</td>\n",
       "      <td>4</td>\n",
       "      <td>3</td>\n",
       "      <td>False</td>\n",
       "      <td>{'bootstrap': False, 'max_features': 4, 'n_est...</td>\n",
       "      <td>-0.217429</td>\n",
       "      <td>-0.214874</td>\n",
       "      <td>...</td>\n",
       "      <td>-0.230828</td>\n",
       "      <td>0.021912</td>\n",
       "      <td>11</td>\n",
       "      <td>-5.652473e-32</td>\n",
       "      <td>-6.537131e-32</td>\n",
       "      <td>-6.019406e-32</td>\n",
       "      <td>-5.844300e-32</td>\n",
       "      <td>-6.036280e-32</td>\n",
       "      <td>-6.017918e-32</td>\n",
       "      <td>2.944878e-33</td>\n",
       "    </tr>\n",
       "    <tr>\n",
       "      <th>17</th>\n",
       "      <td>0.049776</td>\n",
       "      <td>0.002691</td>\n",
       "      <td>0.003128</td>\n",
       "      <td>0.000959</td>\n",
       "      <td>4</td>\n",
       "      <td>10</td>\n",
       "      <td>False</td>\n",
       "      <td>{'bootstrap': False, 'max_features': 4, 'n_est...</td>\n",
       "      <td>-0.141935</td>\n",
       "      <td>-0.108725</td>\n",
       "      <td>...</td>\n",
       "      <td>-0.144657</td>\n",
       "      <td>0.036382</td>\n",
       "      <td>6</td>\n",
       "      <td>-2.557884e-31</td>\n",
       "      <td>-2.637029e-31</td>\n",
       "      <td>-2.491558e-31</td>\n",
       "      <td>-2.612953e-31</td>\n",
       "      <td>-2.577531e-31</td>\n",
       "      <td>-2.575391e-31</td>\n",
       "      <td>5.009829e-33</td>\n",
       "    </tr>\n",
       "  </tbody>\n",
       "</table>\n",
       "<p>18 rows × 23 columns</p>\n",
       "</div>"
      ],
      "text/plain": [
       "    mean_fit_time  std_fit_time  mean_score_time  std_score_time  \\\n",
       "0        0.027132      0.026675         0.003123        0.002855   \n",
       "1        0.044204      0.010854         0.003904        0.002139   \n",
       "2        0.177119      0.109362         0.010931        0.008804   \n",
       "3        0.027040      0.004579         0.003031        0.000992   \n",
       "4        0.048520      0.009206         0.002734        0.001294   \n",
       "5        0.136945      0.039436         0.006050        0.001680   \n",
       "6        0.051405      0.042828         0.004487        0.003982   \n",
       "7        0.046083      0.014625         0.002129        0.000401   \n",
       "8        0.178340      0.048992         0.014629        0.018069   \n",
       "9        0.022940      0.005542         0.001171        0.000390   \n",
       "10       0.053383      0.007996         0.002147        0.000391   \n",
       "11       0.230347      0.129953         0.004099        0.000956   \n",
       "12       0.013469      0.001434         0.001952        0.000617   \n",
       "13       0.034940      0.003621         0.002148        0.000957   \n",
       "14       0.011513      0.001662         0.001182        0.000386   \n",
       "15       0.072246      0.051441         0.003330        0.001319   \n",
       "16       0.016201      0.004561         0.001757        0.000391   \n",
       "17       0.049776      0.002691         0.003128        0.000959   \n",
       "\n",
       "   param_max_features param_n_estimators param_bootstrap  \\\n",
       "0                   2                  3             NaN   \n",
       "1                   2                 10             NaN   \n",
       "2                   2                 30             NaN   \n",
       "3                   4                  3             NaN   \n",
       "4                   4                 10             NaN   \n",
       "5                   4                 30             NaN   \n",
       "6                   6                  3             NaN   \n",
       "7                   6                 10             NaN   \n",
       "8                   6                 30             NaN   \n",
       "9                   8                  3             NaN   \n",
       "10                  8                 10             NaN   \n",
       "11                  8                 30             NaN   \n",
       "12                  2                  3           False   \n",
       "13                  2                 10           False   \n",
       "14                  3                  3           False   \n",
       "15                  3                 10           False   \n",
       "16                  4                  3           False   \n",
       "17                  4                 10           False   \n",
       "\n",
       "                                               params  split0_test_score  \\\n",
       "0              {'max_features': 2, 'n_estimators': 3}          -0.564359   \n",
       "1             {'max_features': 2, 'n_estimators': 10}          -0.423802   \n",
       "2             {'max_features': 2, 'n_estimators': 30}          -0.313579   \n",
       "3              {'max_features': 4, 'n_estimators': 3}          -0.199955   \n",
       "4             {'max_features': 4, 'n_estimators': 10}          -0.176780   \n",
       "5             {'max_features': 4, 'n_estimators': 30}          -0.141252   \n",
       "6              {'max_features': 6, 'n_estimators': 3}          -0.173495   \n",
       "7             {'max_features': 6, 'n_estimators': 10}          -0.089385   \n",
       "8             {'max_features': 6, 'n_estimators': 30}          -0.073255   \n",
       "9              {'max_features': 8, 'n_estimators': 3}          -0.171328   \n",
       "10            {'max_features': 8, 'n_estimators': 10}          -0.077433   \n",
       "11            {'max_features': 8, 'n_estimators': 30}          -0.068916   \n",
       "12  {'bootstrap': False, 'max_features': 2, 'n_est...          -0.493682   \n",
       "13  {'bootstrap': False, 'max_features': 2, 'n_est...          -0.375966   \n",
       "14  {'bootstrap': False, 'max_features': 3, 'n_est...          -0.471707   \n",
       "15  {'bootstrap': False, 'max_features': 3, 'n_est...          -0.208870   \n",
       "16  {'bootstrap': False, 'max_features': 4, 'n_est...          -0.217429   \n",
       "17  {'bootstrap': False, 'max_features': 4, 'n_est...          -0.141935   \n",
       "\n",
       "    split1_test_score  ...  mean_test_score  std_test_score  rank_test_score  \\\n",
       "0           -0.662035  ...        -0.642198        0.069601               18   \n",
       "1           -0.284265  ...        -0.388748        0.073848               16   \n",
       "2           -0.209272  ...        -0.304465        0.074485               13   \n",
       "3           -0.226455  ...        -0.280530        0.079796               12   \n",
       "4           -0.127520  ...        -0.170590        0.040792                8   \n",
       "5           -0.103447  ...        -0.128588        0.026858                5   \n",
       "6           -0.200576  ...        -0.177183        0.022118                9   \n",
       "7           -0.093965  ...        -0.105689        0.023465                4   \n",
       "8           -0.077285  ...        -0.093528        0.025750                2   \n",
       "9           -0.163091  ...        -0.148318        0.023748                7   \n",
       "10          -0.098359  ...        -0.094290        0.015810                3   \n",
       "11          -0.070313  ...        -0.082930        0.020039                1   \n",
       "12          -0.404646  ...        -0.510114        0.126133               17   \n",
       "13          -0.244471  ...        -0.349317        0.076174               15   \n",
       "14          -0.265929  ...        -0.339554        0.099149               14   \n",
       "15          -0.170624  ...        -0.224594        0.062362               10   \n",
       "16          -0.214874  ...        -0.230828        0.021912               11   \n",
       "17          -0.108725  ...        -0.144657        0.036382                6   \n",
       "\n",
       "    split0_train_score  split1_train_score  split2_train_score  \\\n",
       "0        -1.650328e-01       -2.068510e-01       -1.563258e-01   \n",
       "1        -9.793352e-02       -7.293682e-02       -6.579352e-02   \n",
       "2        -5.515314e-02       -4.307431e-02       -4.860566e-02   \n",
       "3        -7.914646e-02       -7.806061e-02       -7.120328e-02   \n",
       "4        -4.120977e-02       -3.704511e-02       -2.740386e-02   \n",
       "5        -2.506447e-02       -2.223582e-02       -1.925896e-02   \n",
       "6        -6.568434e-02       -5.891540e-02       -4.999621e-02   \n",
       "7        -2.608636e-02       -2.288261e-02       -1.978523e-02   \n",
       "8        -1.536169e-02       -1.521563e-02       -1.495711e-02   \n",
       "9        -5.677652e-02       -5.959722e-02       -4.021086e-02   \n",
       "10       -1.917386e-02       -1.928023e-02       -1.739557e-02   \n",
       "11       -1.223157e-02       -1.168659e-02       -1.265741e-02   \n",
       "12       -5.652473e-32       -6.537131e-32       -6.019406e-32   \n",
       "13       -2.573782e-31       -2.623589e-31       -2.466871e-31   \n",
       "14       -5.652473e-32       -6.537131e-32       -6.019406e-32   \n",
       "15       -2.583860e-31       -2.615185e-31       -2.471809e-31   \n",
       "16       -5.652473e-32       -6.537131e-32       -6.019406e-32   \n",
       "17       -2.557884e-31       -2.637029e-31       -2.491558e-31   \n",
       "\n",
       "    split3_train_score  split4_train_score  mean_train_score  std_train_score  \n",
       "0        -2.074078e-01       -1.749318e-01     -1.821098e-01     2.126067e-02  \n",
       "1        -7.298739e-02       -8.046227e-02     -7.802270e-02     1.098331e-02  \n",
       "2        -4.873636e-02       -5.350346e-02     -4.981459e-02     4.246491e-03  \n",
       "3        -8.913131e-02       -8.254419e-02     -8.001717e-02     5.860449e-03  \n",
       "4        -3.363148e-02       -3.317011e-02     -3.449207e-02     4.568948e-03  \n",
       "5        -2.037386e-02       -1.974973e-02     -2.133657e-02     2.119773e-03  \n",
       "6        -5.777904e-02       -5.140909e-02     -5.675682e-02     5.651710e-03  \n",
       "7        -2.226807e-02       -2.406625e-02     -2.301770e-02     2.075824e-03  \n",
       "8        -1.582792e-02       -1.542475e-02     -1.535742e-02     2.850514e-04  \n",
       "9        -5.153788e-02       -4.119949e-02     -4.986439e-02     7.919307e-03  \n",
       "10       -2.190159e-02       -1.602352e-02     -1.875495e-02     1.982996e-03  \n",
       "11       -1.351303e-02       -1.197034e-02     -1.241179e-02     6.366054e-04  \n",
       "12       -5.844300e-32       -6.036280e-32     -6.017918e-32     2.944878e-33  \n",
       "13       -2.599513e-31       -2.611147e-31     -2.574981e-31     5.650092e-33  \n",
       "14       -5.844300e-32       -6.036280e-32     -6.017918e-32     2.944878e-33  \n",
       "15       -2.606105e-31       -2.598856e-31     -2.575163e-31     5.268464e-33  \n",
       "16       -5.844300e-32       -6.036280e-32     -6.017918e-32     2.944878e-33  \n",
       "17       -2.612953e-31       -2.577531e-31     -2.575391e-31     5.009829e-33  \n",
       "\n",
       "[18 rows x 23 columns]"
      ]
     },
     "execution_count": 107,
     "metadata": {},
     "output_type": "execute_result"
    }
   ],
   "source": [
    "pd.DataFrame(grid_search.cv_results_)"
   ]
  },
  {
   "cell_type": "code",
   "execution_count": 108,
   "metadata": {},
   "outputs": [
    {
     "data": {
      "text/plain": [
       "array([0.62513817, 0.00150827, 0.00173967, 0.00105612, 0.02221773,\n",
       "       0.00125766, 0.0015986 , 0.00101471, 0.00187988, 0.00220194,\n",
       "       0.00916789, 0.0013467 , 0.06271487, 0.00139872, 0.05234423,\n",
       "       0.00298568, 0.16978505, 0.04064412])"
      ]
     },
     "execution_count": 108,
     "metadata": {},
     "output_type": "execute_result"
    }
   ],
   "source": [
    "feature_importances = grid_search.best_estimator_.feature_importances_\n",
    "feature_importances"
   ]
  },
  {
   "cell_type": "code",
   "execution_count": 109,
   "metadata": {},
   "outputs": [],
   "source": [
    "final_model = grid_search.best_estimator_"
   ]
  },
  {
   "cell_type": "code",
   "execution_count": 110,
   "metadata": {},
   "outputs": [],
   "source": [
    "num_pipeline_with_predictor = Pipeline([\n",
    "        (\"preparation\", num_pipeline),\n",
    "        (\"final model\", final_model)\n",
    "    ])"
   ]
  },
  {
   "cell_type": "code",
   "execution_count": 111,
   "metadata": {},
   "outputs": [],
   "source": [
    "joblib.dump(num_pipeline_with_predictor, \"my_model.pkl\") # DIFF\n",
    "my_model_loaded = joblib.load(\"my_model.pkl\") # DIFF"
   ]
  },
  {
   "cell_type": "code",
   "execution_count": 112,
   "metadata": {},
   "outputs": [],
   "source": [
    "y_test_pred = my_model_loaded.predict(X_test)"
   ]
  },
  {
   "cell_type": "code",
   "execution_count": 113,
   "metadata": {},
   "outputs": [
    {
     "data": {
      "text/plain": [
       "0.22177016217453116"
      ]
     },
     "execution_count": 113,
     "metadata": {},
     "output_type": "execute_result"
    }
   ],
   "source": [
    "final_mse = mean_squared_error(y_test, y_test_pred)\n",
    "final_rmse = np.sqrt(final_mse)\n",
    "final_rmse"
   ]
  },
  {
   "cell_type": "code",
   "execution_count": null,
   "metadata": {},
   "outputs": [],
   "source": []
  }
 ],
 "metadata": {
  "kernelspec": {
   "display_name": "Python 3 (ipykernel)",
   "language": "python",
   "name": "python3"
  },
  "language_info": {
   "codemirror_mode": {
    "name": "ipython",
    "version": 3
   },
   "file_extension": ".py",
   "mimetype": "text/x-python",
   "name": "python",
   "nbconvert_exporter": "python",
   "pygments_lexer": "ipython3",
   "version": "3.10.6"
  }
 },
 "nbformat": 4,
 "nbformat_minor": 4
}
